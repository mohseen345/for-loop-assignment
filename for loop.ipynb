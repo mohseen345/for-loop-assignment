{
 "cells": [
  {
   "cell_type": "markdown",
   "id": "9b5ca50c-619b-4589-90ac-28e82119c95c",
   "metadata": {},
   "source": [
    "For loop assignment"
   ]
  },
  {
   "cell_type": "markdown",
   "id": "79cdc3fa-688e-4f9b-bcf2-b44eb2f73135",
   "metadata": {},
   "source": [
    "BASIC LEVEL"
   ]
  },
  {
   "cell_type": "markdown",
   "id": "b716454b-ff4e-41c2-9c2f-d5d83e19fe32",
   "metadata": {},
   "source": [
    "1.write a python program to print the numbers from 1to10 using a for loop"
   ]
  },
  {
   "cell_type": "code",
   "execution_count": 2,
   "id": "51f66b5c-e72e-4ad9-931a-cbc28ea1d441",
   "metadata": {},
   "outputs": [
    {
     "name": "stdout",
     "output_type": "stream",
     "text": [
      "1\n",
      "2\n",
      "3\n",
      "4\n",
      "5\n",
      "6\n",
      "7\n",
      "8\n",
      "9\n",
      "10\n"
     ]
    }
   ],
   "source": [
    "for i in range(1,11):\n",
    "    print(i)"
   ]
  },
  {
   "cell_type": "markdown",
   "id": "765acba1-2722-46ac-817c-ac8e6c0ad395",
   "metadata": {},
   "source": [
    "2.create a program that calculate the sum of all numbers in a list using a for lop"
   ]
  },
  {
   "cell_type": "code",
   "execution_count": 14,
   "id": "550e1a83-d71d-4560-b674-8b94977d6961",
   "metadata": {},
   "outputs": [
    {
     "name": "stdin",
     "output_type": "stream",
     "text": [
      " please enter the number 2\n"
     ]
    },
    {
     "name": "stdout",
     "output_type": "stream",
     "text": [
      "1\n",
      "3\n"
     ]
    }
   ],
   "source": [
    "num=int(input(\" please enter the number\"))\n",
    "sum=0\n",
    "for value in range(1, num+1):\n",
    "    sum=sum+value\n",
    "    print(sum)"
   ]
  },
  {
   "cell_type": "markdown",
   "id": "1aed4afd-25e9-454e-9eb7-8ff43a5a326a",
   "metadata": {},
   "source": [
    "3.write a program to print that character of a string in reverse order using a for loop"
   ]
  },
  {
   "cell_type": "code",
   "execution_count": 36,
   "id": "732f8676-a97e-4b7f-bd70-f3765c94abe7",
   "metadata": {},
   "outputs": [],
   "source": [
    "def reverse_string(str):\n",
    "    str=\"\"\n",
    "    for i in str:\n",
    "        str=i+str\n",
    "        return str\n",
    "    str=\"hello world\""
   ]
  },
  {
   "cell_type": "code",
   "execution_count": 38,
   "id": "444d87d1-2acd-4781-8d47-8fc36dd3d53e",
   "metadata": {},
   "outputs": [],
   "source": [
    "reverse_string(str)"
   ]
  },
  {
   "cell_type": "markdown",
   "id": "69ca22ed-a6d6-49ba-a6cb-e7f11a711a1a",
   "metadata": {},
   "source": [
    "4.develop a program that finds a factorial of a  given number using for loop."
   ]
  },
  {
   "cell_type": "code",
   "execution_count": 55,
   "id": "8b473070-a940-48c8-81b3-dfe2b43a0cb1",
   "metadata": {},
   "outputs": [
    {
     "name": "stdout",
     "output_type": "stream",
     "text": [
      "the factorial of 7 is 1\n",
      "the factorial of 7 is 2\n",
      "the factorial of 7 is 6\n",
      "the factorial of 7 is 24\n",
      "the factorial of 7 is 120\n",
      "the factorial of 7 is 720\n",
      "the factorial of 7 is 5040\n"
     ]
    }
   ],
   "source": [
    "num=7\n",
    "factorial=1\n",
    "for i in range(1,num+1):\n",
    "            factorial=factorial*i\n",
    "            print(\"the factorial of\" ,num,\"is\",factorial)"
   ]
  },
  {
   "cell_type": "markdown",
   "id": "e616e4b6-1ee4-4074-985e-1cdd339f6f6d",
   "metadata": {},
   "source": [
    "5.create a progrtam multiplication table of a given number using a for loop."
   ]
  },
  {
   "cell_type": "code",
   "execution_count": 65,
   "id": "cfcbdc21-4d6b-44ea-bf59-961d3d9251a0",
   "metadata": {},
   "outputs": [
    {
     "name": "stdin",
     "output_type": "stream",
     "text": [
      "enter any number you want from the user  6\n"
     ]
    },
    {
     "name": "stdout",
     "output_type": "stream",
     "text": [
      "6 x i = 6\n",
      "6 x i = 12\n",
      "6 x i = 18\n",
      "6 x i = 24\n",
      "6 x i = 30\n",
      "6 x i = 36\n",
      "6 x i = 42\n",
      "6 x i = 48\n",
      "6 x i = 54\n",
      "6 x i = 60\n"
     ]
    }
   ],
   "source": [
    "num=int(input(\"enter any number you want from the user \"))\n",
    "for i in range(1,11):\n",
    "    print(num,'x','i','=',num*i)"
   ]
  },
  {
   "cell_type": "markdown",
   "id": "e842786f-7921-4bd4-ba5f-a468f52f9c84",
   "metadata": {},
   "source": [
    "6.write a program that counts the number of even and odd number in a list using a for loop"
   ]
  },
  {
   "cell_type": "code",
   "execution_count": 6,
   "id": "70563e81-04ae-4161-8498-723038fb0e40",
   "metadata": {},
   "outputs": [
    {
     "name": "stdout",
     "output_type": "stream",
     "text": [
      "even  0\n",
      "odd  1\n",
      "even  1\n",
      "odd  2\n",
      "even  2\n",
      "odd  3\n",
      "even  3\n",
      "odd  4\n",
      "even  4\n",
      "odd  5\n",
      "even  4\n",
      "odd  6\n",
      "even  4\n",
      "odd  7\n",
      "even  5\n",
      "odd  8\n"
     ]
    }
   ],
   "source": [
    "list1=[1,2,3,4,5,6,7,8,9,7,7,8,5,4,]\n",
    "odd_count=0\n",
    "even_count=0\n",
    "for num in list1:\n",
    "    if num%2==0:\n",
    "        even_count+=1\n",
    "    else:\n",
    "            odd_count+=1\n",
    "            print(\"even \",even_count)\n",
    "            print(\"odd \", odd_count)"
   ]
  },
  {
   "cell_type": "markdown",
   "id": "b42719e6-e3fd-4876-aca2-7b8cce4ea753",
   "metadata": {},
   "source": [
    "7.write a progarm to input a number and print its square 1 to 5 in python"
   ]
  },
  {
   "cell_type": "code",
   "execution_count": 32,
   "id": "211b02ea-a716-4bdd-9c96-ad7ef3dcb776",
   "metadata": {},
   "outputs": [
    {
     "name": "stdout",
     "output_type": "stream",
     "text": [
      "list of square of from to 1 to 5\n",
      "1\n",
      "list of square of from to 1 to 5\n",
      "2\n",
      "list of square of from to 1 to 5\n",
      "3\n",
      "list of square of from to 1 to 5\n",
      "4\n",
      "list of square of from to 1 to 5\n",
      "5\n"
     ]
    }
   ],
   "source": [
    "l=[]\n",
    "for i in range(1,6):\n",
    "    l.append(i*i)\n",
    "    print(\"list of square of from to 1 to 5\")\n",
    "    print(i)"
   ]
  },
  {
   "cell_type": "markdown",
   "id": "cf4fa992-2568-4553-bfb7-8b41138b54de",
   "metadata": {},
   "source": [
    "8.create a program to find the length of a string without using len() function.\n"
   ]
  },
  {
   "cell_type": "code",
   "execution_count": 17,
   "id": "748be841-0646-40f1-b616-b453a09ea56d",
   "metadata": {},
   "outputs": [
    {
     "name": "stdout",
     "output_type": "stream",
     "text": [
      "length of a string:1\n",
      "length of a string:2\n",
      "length of a string:3\n",
      "length of a string:4\n",
      "length of a string:5\n",
      "length of a string:6\n",
      "length of a string:7\n",
      "length of a string:8\n",
      "length of a string:9\n",
      "length of a string:10\n",
      "length of a string:11\n"
     ]
    }
   ],
   "source": [
    "str=\"hello world\"\n",
    "count=0\n",
    "for i in str:\n",
    "    count+=1\n",
    "    print(\"length of a string:\",end=\"\")\n",
    "    print(count)"
   ]
  },
  {
   "cell_type": "markdown",
   "id": "4dfda1a2-2474-42f3-a08d-91e857c361e2",
   "metadata": {},
   "source": [
    "9.write a program that calculates the average of list of number using a for loop."
   ]
  },
  {
   "cell_type": "code",
   "execution_count": null,
   "id": "37214692-d727-45fb-b3c6-7402f815850a",
   "metadata": {},
   "outputs": [
    {
     "name": "stdin",
     "output_type": "stream",
     "text": [
      "enter the number of elments to be inserted 233\n",
      "enter element 456\n"
     ]
    },
    {
     "name": "stdout",
     "output_type": "stream",
     "text": [
      "average elements in the list 1.96\n"
     ]
    },
    {
     "name": "stdin",
     "output_type": "stream",
     "text": [
      "enter element 23\n"
     ]
    },
    {
     "name": "stdout",
     "output_type": "stream",
     "text": [
      "average elements in the list 2.06\n"
     ]
    },
    {
     "name": "stdin",
     "output_type": "stream",
     "text": [
      "enter element 4\n"
     ]
    },
    {
     "name": "stdout",
     "output_type": "stream",
     "text": [
      "average elements in the list 2.07\n"
     ]
    },
    {
     "name": "stdin",
     "output_type": "stream",
     "text": [
      "enter element 5\n"
     ]
    },
    {
     "name": "stdout",
     "output_type": "stream",
     "text": [
      "average elements in the list 2.09\n"
     ]
    },
    {
     "name": "stdin",
     "output_type": "stream",
     "text": [
      "enter element 6\n"
     ]
    },
    {
     "name": "stdout",
     "output_type": "stream",
     "text": [
      "average elements in the list 2.12\n"
     ]
    }
   ],
   "source": [
    "n=int(input(\"enter the number of elments to be inserted\"))\n",
    "a=[]\n",
    "for i in range(0,n):\n",
    "    elem=int(input(\"enter element\"))\n",
    "    a.append(elem)\n",
    "    avg=sum(a)/n\n",
    "    print(\"average elements in the list\",round(avg,2))"
   ]
  },
  {
   "cell_type": "markdown",
   "id": "a9c53c2c-3b47-430b-a4a0-bb51cba99017",
   "metadata": {},
   "source": [
    "10.develop a program that prints the first n fibonacci numbers using for loop."
   ]
  },
  {
   "cell_type": "code",
   "execution_count": 1,
   "id": "a5730b9c-045f-470a-8e7e-93f911e0490e",
   "metadata": {},
   "outputs": [
    {
     "name": "stdout",
     "output_type": "stream",
     "text": [
      "fibonacci series: 0 1 1 \n",
      "2 \n",
      "3 \n",
      "5 \n",
      "8 \n",
      "13 \n",
      "21 \n",
      "34 \n"
     ]
    }
   ],
   "source": [
    "num=10\n",
    "n1,n2=0,1\n",
    "print(\"fibonacci series:\",n1,n2,end=\" \")\n",
    "for i in range(2,num):\n",
    "    n3=n1+n2\n",
    "    n1=n2\n",
    "    n2=n3\n",
    "    print(n3, end=\" \")\n",
    "    print()"
   ]
  },
  {
   "cell_type": "markdown",
   "id": "c4e9a088-adad-4f28-9222-eb2c21e91f32",
   "metadata": {},
   "source": [
    "Intermediate Level:"
   ]
  },
  {
   "cell_type": "markdown",
   "id": "f08c6f1d-af07-4c7a-90df-579ca25de570",
   "metadata": {},
   "source": [
    "11.write a program to check if a given list contains any duplicates using for loop."
   ]
  },
  {
   "cell_type": "code",
   "execution_count": 9,
   "id": "829c60e3-8d7b-4393-bef5-af99e002054a",
   "metadata": {},
   "outputs": [
    {
     "name": "stdout",
     "output_type": "stream",
     "text": [
      "[1]\n",
      "[1, 2]\n",
      "[1, 2, 5]\n"
     ]
    }
   ],
   "source": [
    "list=[1,2,1,2,3,4,5,1,1,2,5,6,7]\n",
    "unique_list=[]\n",
    "duplicate_list=[]\n",
    "for i in list:\n",
    "    if i not in unique_list:\n",
    "        unique_list.append(i)\n",
    "    elif i not in duplicate_list:\n",
    "            duplicate_list.append(i)\n",
    "            print(duplicate_list)"
   ]
  },
  {
   "cell_type": "markdown",
   "id": "79cc5f1f-ded9-4d61-8d22-719597176097",
   "metadata": {},
   "source": [
    "12.create a program that prints the prime numbers in a given range using for loop."
   ]
  },
  {
   "cell_type": "code",
   "execution_count": 19,
   "id": "b3aa4ca5-56e1-48b8-947a-faed9660805a",
   "metadata": {},
   "outputs": [
    {
     "name": "stdout",
     "output_type": "stream",
     "text": [
      "3\n",
      "5\n",
      "5\n",
      "5\n",
      "7\n",
      "7\n",
      "7\n",
      "7\n",
      "7\n",
      "9\n"
     ]
    }
   ],
   "source": [
    "\n",
    "for num in range(1,11):\n",
    "    if num>1:\n",
    "           for i in range(2,num):\n",
    "            if (num%i)==0:\n",
    "                break\n",
    "            else:\n",
    "                    print(num)"
   ]
  },
  {
   "cell_type": "markdown",
   "id": "e7b45490-f066-4fce-a28b-3ec8a898b76a",
   "metadata": {},
   "source": [
    "13.develop a program that counts the number of vowels in a string using a for loop."
   ]
  },
  {
   "cell_type": "code",
   "execution_count": 20,
   "id": "4d6eab1a-8221-4f76-b1b4-c53b39c05088",
   "metadata": {},
   "outputs": [
    {
     "name": "stdout",
     "output_type": "stream",
     "text": [
      "8\n"
     ]
    }
   ],
   "source": [
    "string=\"my name is mohseen ahmad\"\n",
    "vowels=\"aeiouAEIOU\"\n",
    "count=sum(string.count(vowel) for vowel in vowels)\n",
    "print(count)"
   ]
  },
  {
   "cell_type": "markdown",
   "id": "23ef0f31-af52-408d-96f3-a847ccc7d6c9",
   "metadata": {},
   "source": [
    "14.write a program to find the maximum element in a 2d list using a nested for loop."
   ]
  },
  {
   "cell_type": "code",
   "execution_count": 43,
   "id": "5293e1e4-6a0f-46b1-b9c9-59e64da6424a",
   "metadata": {},
   "outputs": [
    {
     "name": "stdout",
     "output_type": "stream",
     "text": [
      "504\n"
     ]
    }
   ],
   "source": [
    "def prod(l1):\n",
    "    z=1\n",
    "    for i in l1:\n",
    "        z*=i\n",
    "    return z\n",
    "l=[[1,2,3],[4,5,6],[7,8,9]]\n",
    "max_prod=max([prod(inner_list) for inner_list in l])\n",
    "print(max_prod)"
   ]
  },
  {
   "cell_type": "markdown",
   "id": "6e3fbde4-fae7-4578-a6a4-c665ef8b0c59",
   "metadata": {},
   "source": [
    "15.create a program that removes all occurences of a specific element from a list using for loop."
   ]
  },
  {
   "cell_type": "code",
   "execution_count": 60,
   "id": "a48dddc3-2f5c-47c0-a736-80574ca1f043",
   "metadata": {},
   "outputs": [
    {
     "name": "stdout",
     "output_type": "stream",
     "text": [
      "[3, 4, 5, 6]\n"
     ]
    }
   ],
   "source": [
    "test_list=[1,3,4,5,6,1]\n",
    "ele=1\n",
    "x=[j for i,j in enumerate(test_list) if j!=ele]\n",
    "print(x)"
   ]
  },
  {
   "cell_type": "markdown",
   "id": "5a2b7014-d7b7-4100-b78b-7c749f32b077",
   "metadata": {},
   "source": [
    "16.develop a program that genrates a mulitiplication table for numbers to 1 to 5 using a nested for loop."
   ]
  },
  {
   "cell_type": "code",
   "execution_count": 83,
   "id": "1ec829fb-7ba5-4777-baf8-dc8004dc54f5",
   "metadata": {},
   "outputs": [
    {
     "name": "stdout",
     "output_type": "stream",
     "text": [
      "1 \n",
      "2 \n",
      "3 \n",
      "4 \n",
      "5 \n",
      "6 \n",
      "7 \n",
      "8 \n",
      "9 \n",
      "10 \n",
      "2 \n",
      "4 \n",
      "6 \n",
      "8 \n",
      "10 \n",
      "12 \n",
      "14 \n",
      "16 \n",
      "18 \n",
      "20 \n",
      "3 \n",
      "6 \n",
      "9 \n",
      "12 \n",
      "15 \n",
      "18 \n",
      "21 \n",
      "24 \n",
      "27 \n",
      "30 \n",
      "4 \n",
      "8 \n",
      "12 \n",
      "16 \n",
      "20 \n",
      "24 \n",
      "28 \n",
      "32 \n",
      "36 \n",
      "40 \n",
      "5 \n",
      "10 \n",
      "15 \n",
      "20 \n",
      "25 \n",
      "30 \n",
      "35 \n",
      "40 \n",
      "45 \n",
      "50 \n",
      "6 \n",
      "12 \n",
      "18 \n",
      "24 \n",
      "30 \n",
      "36 \n",
      "42 \n",
      "48 \n",
      "54 \n",
      "60 \n",
      "7 \n",
      "14 \n",
      "21 \n",
      "28 \n",
      "35 \n",
      "42 \n",
      "49 \n",
      "56 \n",
      "63 \n",
      "70 \n",
      "8 \n",
      "16 \n",
      "24 \n",
      "32 \n",
      "40 \n",
      "48 \n",
      "56 \n",
      "64 \n",
      "72 \n",
      "80 \n",
      "9 \n",
      "18 \n",
      "27 \n",
      "36 \n",
      "45 \n",
      "54 \n",
      "63 \n",
      "72 \n",
      "81 \n",
      "90 \n",
      "10 \n",
      "20 \n",
      "30 \n",
      "40 \n",
      "50 \n",
      "60 \n",
      "70 \n",
      "80 \n",
      "90 \n",
      "100 \n"
     ]
    }
   ],
   "source": [
    "rows=5\n",
    "columns=5\n",
    "for i in range(1,11):\n",
    "    for j in range(1,11):\n",
    "        c=i*j\n",
    "        print(\"{:d}\".format(c),end=' ')\n",
    "        print( )"
   ]
  },
  {
   "cell_type": "markdown",
   "id": "522ed688-61e5-42d5-a37c-7d4136cb002d",
   "metadata": {},
   "source": [
    "\n",
    "17.write a program that convert a list of farenheit tempratures to celcius using for loop."
   ]
  },
  {
   "cell_type": "code",
   "execution_count": 89,
   "id": "7cc6e520-2496-4ab9-b2f3-828e050d16d6",
   "metadata": {},
   "outputs": [
    {
     "name": "stdin",
     "output_type": "stream",
     "text": [
      "enter temprature in farenheit: 1\n"
     ]
    },
    {
     "name": "stdout",
     "output_type": "stream",
     "text": [
      "1.0 in farenheit is equal to -17.22222222222222 in celcius\n"
     ]
    }
   ],
   "source": [
    "temp=float(input(\"enter temprature in farenheit:\"))\n",
    "celcius=(temp-32)*5/9\n",
    "print(f\"{temp} in farenheit is equal to {celcius} in celcius\")"
   ]
  },
  {
   "cell_type": "markdown",
   "id": "d5cb02e0-8422-40e9-82e7-650c47f239db",
   "metadata": {},
   "source": [
    "18.create a program to print the comman elements from two list using a for loop."
   ]
  },
  {
   "cell_type": "code",
   "execution_count": 96,
   "id": "17d7808c-d298-486c-832c-fdc179321a95",
   "metadata": {},
   "outputs": [
    {
     "name": "stdout",
     "output_type": "stream",
     "text": [
      "the comman  elments in the two list are:\n",
      "[5, 6]\n"
     ]
    }
   ],
   "source": [
    "def common_member(a,b):\n",
    "    result=[i for i in a if i in b]\n",
    "    return result\n",
    "a=[1,2,3,4,5,6]\n",
    "b=[5,6,7,8,9]\n",
    "print(\"the comman  elments in the two list are:\")\n",
    "print(common_member(a,b))"
   ]
  },
  {
   "cell_type": "markdown",
   "id": "aec44052-afc4-404e-be96-09c8ebec09b4",
   "metadata": {},
   "source": [
    "19.develop a program that prints the pattern of right angle tringles using a for loop. use* fro the pattern."
   ]
  },
  {
   "cell_type": "code",
   "execution_count": 108,
   "id": "a7b32037-ae61-41fd-9c78-a1c91bb91df5",
   "metadata": {},
   "outputs": [
    {
     "name": "stdout",
     "output_type": "stream",
     "text": [
      "\n",
      "*\n",
      "**\n",
      "***\n",
      "****\n",
      "*****\n"
     ]
    }
   ],
   "source": [
    "for i in range(6):\n",
    "    for j in range(1,i+1):\n",
    "        print('*',end='')\n",
    "    print()"
   ]
  },
  {
   "cell_type": "markdown",
   "id": "369ebe45-2c0e-4a55-9c97-b25239b857cb",
   "metadata": {},
   "source": [
    "20.write a program to find the gretest comman divisor  of two numbers using a for loop."
   ]
  },
  {
   "cell_type": "code",
   "execution_count": 123,
   "id": "91eaa75a-ef63-431a-af82-41203dceaf46",
   "metadata": {},
   "outputs": [
    {
     "name": "stdout",
     "output_type": "stream",
     "text": [
      "gcd of 36 and 60 is 1\n",
      "gcd of 36 and 60 is 2\n",
      "gcd of 36 and 60 is 5\n",
      "gcd of 36 and 60 is 10\n"
     ]
    }
   ],
   "source": [
    "num1=36\n",
    "num2=60\n",
    "gcd=1\n",
    "for i in range(1,min(,60)):\n",
    "    if num%i==0 and num2%i==0:\n",
    "        gcd=i\n",
    "        print(\"gcd of\", num1,\"and\",num2,\"is\",gcd)"
   ]
  },
  {
   "cell_type": "markdown",
   "id": "e9165e59-86e5-4863-aab4-1417fe96f752",
   "metadata": {},
   "source": [
    "Advance level"
   ]
  },
  {
   "cell_type": "markdown",
   "id": "58b25b6c-3c10-4643-9e3b-0238a0c285e0",
   "metadata": {},
   "source": [
    "21.create a progarm that calculates the sum of the digits of numbers in a list comprehension."
   ]
  },
  {
   "cell_type": "code",
   "execution_count": 3,
   "id": "418d802d-b401-4cbf-93a5-baefdaa94ce4",
   "metadata": {},
   "outputs": [],
   "source": [
    "def getsum(n):\n",
    "    sum=0\n",
    "    for digit in str(n):\n",
    "        sum+=int(digit)\n",
    "        return sum\n",
    "    n=569\n",
    "    print(getsum(n))"
   ]
  },
  {
   "cell_type": "code",
   "execution_count": 4,
   "id": "548d15d3-bd50-4c49-83cd-0484b37cbb2e",
   "metadata": {},
   "outputs": [
    {
     "data": {
      "text/plain": [
       "2"
      ]
     },
     "execution_count": 4,
     "metadata": {},
     "output_type": "execute_result"
    }
   ],
   "source": [
    "getsum(23)"
   ]
  },
  {
   "cell_type": "markdown",
   "id": "d65f2c46-87c5-493b-bb07-21e168c3cc68",
   "metadata": {},
   "source": [
    "22.write a program to find the prime factors of a given number using a for loop and list comprehension."
   ]
  },
  {
   "cell_type": "code",
   "execution_count": 9,
   "id": "9c189578-7935-43a4-89dd-e2723d37bea6",
   "metadata": {},
   "outputs": [],
   "source": [
    "def prime_factors(x):\n",
    "    print(\"the factors of \",x,+1)\n",
    "    for i in range(1,x+1):\n",
    "            if x%i==0:\n",
    "                \n",
    "                print(prime_factors)"
   ]
  },
  {
   "cell_type": "code",
   "execution_count": 12,
   "id": "4fa6bfae-71de-4923-b69e-d93d9f128b74",
   "metadata": {},
   "outputs": [
    {
     "name": "stdout",
     "output_type": "stream",
     "text": [
      "the factors of  7 1\n",
      "<function prime_factors at 0x7eff19463010>\n",
      "<function prime_factors at 0x7eff19463010>\n"
     ]
    }
   ],
   "source": [
    "prime_factors(7)"
   ]
  },
  {
   "cell_type": "markdown",
   "id": "85e17761-82a2-40ca-bc04-3b8710748ae4",
   "metadata": {},
   "source": [
    "23.develop a program that extracts unique elements from a list and stores them in a new list using a list comprehension"
   ]
  },
  {
   "cell_type": "code",
   "execution_count": 14,
   "id": "c2307345-1a20-4601-ad5e-903fecb59fe6",
   "metadata": {},
   "outputs": [],
   "source": [
    "def unique_list(l):\n",
    "    x=[]\n",
    "    for a in l:\n",
    "        if a not in x:\n",
    "            x.append(a)\n",
    "            return x\n",
    "        print(unique_list[1,2,3,3,4,5,5,6,6,8])"
   ]
  },
  {
   "cell_type": "code",
   "execution_count": 17,
   "id": "c301d9ba-e44c-4604-8098-677449695191",
   "metadata": {},
   "outputs": [
    {
     "data": {
      "text/plain": [
       "[1]"
      ]
     },
     "execution_count": 17,
     "metadata": {},
     "output_type": "execute_result"
    }
   ],
   "source": [
    "unique_list([1,2,3,4,4,5,5,5,5,7,6,7,])"
   ]
  },
  {
   "cell_type": "markdown",
   "id": "9de6c38e-76e3-4e6a-b4c9-757cb1c80882",
   "metadata": {},
   "source": [
    "25.write a program to flatten a nested list using list comprehension.\n"
   ]
  },
  {
   "cell_type": "code",
   "execution_count": 28,
   "id": "da245340-5562-428c-a1ca-6dc0bd458efb",
   "metadata": {},
   "outputs": [
    {
     "name": "stdout",
     "output_type": "stream",
     "text": [
      "[1]\n",
      "[1, 2]\n",
      "[1, 2, 3]\n",
      "[1, 2, 3, 4]\n",
      "[1, 2, 3, 4, 5]\n",
      "[1, 2, 3, 4, 5, 6]\n",
      "[1, 2, 3, 4, 5, 6, 7]\n"
     ]
    }
   ],
   "source": [
    "my_list=[[1],[2],[3],[4],[5,6,7]]\n",
    "flat_list=[]\n",
    "for sublist in my_list:\n",
    "    for num in sublist:\n",
    "        flat_list.append(num)\n",
    "        print(flat_list)"
   ]
  },
  {
   "cell_type": "markdown",
   "id": "5e8f8835-24ba-41f7-9325-704dab82d0ed",
   "metadata": {},
   "source": [
    "26.develop a program that compute the sum of even and odd numbers in a list seprately using list comprehension."
   ]
  },
  {
   "cell_type": "code",
   "execution_count": 15,
   "id": "1e3f59f1-d241-415c-b5b9-4df0200dfe39",
   "metadata": {},
   "outputs": [
    {
     "name": "stdout",
     "output_type": "stream",
     "text": [
      "even numbers in the list 1\n",
      "odd numbers in the list 1\n",
      "even numbers in the list 2\n",
      "odd numbers in the list 2\n",
      "even numbers in the list 3\n",
      "odd numbers in the list 3\n",
      "even numbers in the list 4\n",
      "odd numbers in the list 4\n",
      "even numbers in the list 5\n",
      "odd numbers in the list 5\n",
      "even numbers in the list 6\n",
      "odd numbers in the list 6\n",
      "even numbers in the list 7\n",
      "odd numbers in the list 7\n"
     ]
    }
   ],
   "source": [
    "list=[10,20,30,40,50,21,4,92,1]\n",
    "even_count=0\n",
    "odd_count=0\n",
    "for num in list:\n",
    "    if num%2==0:\n",
    "        even_count+=1\n",
    "        odd_count+=1\n",
    "        print(\"even numbers in the list\",even_count)\n",
    "        print(\"odd numbers in the list\",odd_count)"
   ]
  },
  {
   "cell_type": "markdown",
   "id": "1536a218-ed4a-4854-8ee8-85997bc12ed0",
   "metadata": {},
   "source": [
    "27.create a program that generates a list of squares of odd numbers between 1 and10 using list comprehension."
   ]
  },
  {
   "cell_type": "code",
   "execution_count": 17,
   "id": "c009ef7c-0fe9-4ed4-9021-174246297feb",
   "metadata": {},
   "outputs": [
    {
     "name": "stdout",
     "output_type": "stream",
     "text": [
      "[1, 9, 25, 49]\n"
     ]
    }
   ],
   "source": [
    "data=[1,2,3,4,5,6,7,]\n",
    "result=[i*i for i in data if i%2!=0]\n",
    "print(result)"
   ]
  },
  {
   "cell_type": "markdown",
   "id": "677c8e69-6bdd-414b-9a7e-99770de0e8cc",
   "metadata": {},
   "source": [
    "28.write a program that combines two list into a dictinary using list comprehension."
   ]
  },
  {
   "cell_type": "code",
   "execution_count": 20,
   "id": "871a82f0-24a7-4b6f-953b-9ef8771306c7",
   "metadata": {},
   "outputs": [
    {
     "name": "stdout",
     "output_type": "stream",
     "text": [
      "{1: 'python', 2: 'c', 3: 'java'}\n"
     ]
    }
   ],
   "source": [
    "index=[1,2,3]\n",
    "languages=[\"python\",\"c\",\"java\"]\n",
    "dictionary=dict(zip(index,languages))\n",
    "print(dictionary)"
   ]
  },
  {
   "cell_type": "markdown",
   "id": "37e73658-c4ba-4be8-a0f5-0923a1a9052f",
   "metadata": {},
   "source": [
    "29.develop a program that extracts the vowels from a string and stores them in list using list comprehension."
   ]
  },
  {
   "cell_type": "code",
   "execution_count": 22,
   "id": "dce6d9e9-a7af-4cb0-a80d-5bb3a80ae397",
   "metadata": {},
   "outputs": [
    {
     "name": "stdin",
     "output_type": "stream",
     "text": [
      "enter a text mohseen ahmad\n"
     ]
    },
    {
     "name": "stdout",
     "output_type": "stream",
     "text": [
      "o\n",
      "e\n",
      "e\n",
      "a\n",
      "a\n"
     ]
    }
   ],
   "source": [
    "text=input(\"enter a text\")\n",
    "for char in text:\n",
    "    if char.lower() in 'aeiou':\n",
    "        print(char)"
   ]
  },
  {
   "cell_type": "markdown",
   "id": "45146aca-22b6-4a7d-8f93-2fe323fa9a21",
   "metadata": {},
   "source": [
    "30.create a program that removes all non-numeric characters from alist of strings using alist comprehension."
   ]
  },
  {
   "cell_type": "code",
   "execution_count": 1,
   "id": "c438a617-bbac-43d8-b5b1-ea68188dcdd0",
   "metadata": {},
   "outputs": [
    {
     "name": "stdout",
     "output_type": "stream",
     "text": [
      "['four', 'three', 'five']\n"
     ]
    }
   ],
   "source": [
    "import re\n",
    "\n",
    "def remove(list):\n",
    "    pattern='[0-9]'\n",
    "    list=[re.sub(pattern,'',i) for i in list]\n",
    "    return  list\n",
    "list=['4four','3three','5five']\n",
    "print(remove(list))"
   ]
  },
  {
   "cell_type": "markdown",
   "id": "41facddf-dd52-42c2-9e7a-a1aebf6766ee",
   "metadata": {},
   "source": [
    "challenge level."
   ]
  },
  {
   "cell_type": "markdown",
   "id": "534bdc6a-a7d7-482c-bcb3-f9d31a2bf526",
   "metadata": {},
   "source": [
    "31.write a progarm to genrate a list of prime numbers using the sieve of eratosthenes alogorithm and list comprehension."
   ]
  },
  {
   "cell_type": "code",
   "execution_count": 66,
   "id": "fc1b9f69-2503-49cc-bb4b-fada110f54e5",
   "metadata": {},
   "outputs": [
    {
     "name": "stdout",
     "output_type": "stream",
     "text": [
      "2\n",
      "3\n",
      "5\n",
      "7\n",
      "11\n",
      "13\n",
      "17\n",
      "19\n",
      "23\n",
      "29\n",
      "31\n",
      "37\n",
      "41\n",
      "43\n",
      "47\n",
      "53\n",
      "59\n",
      "61\n",
      "67\n",
      "71\n",
      "73\n",
      "79\n",
      "83\n",
      "89\n",
      "97\n",
      "None\n"
     ]
    }
   ],
   "source": [
    "def prime_eratosthenes(n):\n",
    "    prime_list = []\n",
    "    for i in range(2, n+1):\n",
    "        if i not in prime_list:\n",
    "            print (i)\n",
    "            for j in range(i*i, n+1, i):\n",
    "                prime_list.append(j)\n",
    "\n",
    "print(prime_eratosthenes(100));\n"
   ]
  },
  {
   "cell_type": "markdown",
   "id": "ac08dc79-0b31-425e-82b4-0e1824737b2f",
   "metadata": {},
   "source": [
    "32. Create a program that generates a list of all Pythagorean triplets up to a specified limit using list\n",
    "comprehension."
   ]
  },
  {
   "cell_type": "code",
   "execution_count": 68,
   "id": "ff9c5faa-7a71-4c03-ab9c-ed25970ae7fb",
   "metadata": {},
   "outputs": [
    {
     "name": "stdin",
     "output_type": "stream",
     "text": [
      "Enter the value of n: 8\n"
     ]
    },
    {
     "name": "stdout",
     "output_type": "stream",
     "text": [
      "[(3, 4, 5)]\n"
     ]
    }
   ],
   "source": [
    "n = int(input(\"Enter the value of n:\"))\n",
    "\n",
    "a = 0\n",
    "b = 0\n",
    "c = 0\n",
    "m = 2\n",
    "triples = []\n",
    "\n",
    "while c < n:\n",
    "    for i in range(1, m, 1):\n",
    "        a = m*m - i*i\n",
    "        b = 2*m*i\n",
    "        c = m*m + i*i\n",
    "        if c > n:\n",
    "            break\n",
    "        triples.append((a, b, c))\n",
    "    m += 1\n",
    "\n",
    "print(triples)"
   ]
  },
  {
   "cell_type": "markdown",
   "id": "b5415ccc-d9c1-469e-9139-96ffe92df895",
   "metadata": {},
   "source": [
    "33. Develop a program that generates a list of all possible combinations of two lists using list comprehension."
   ]
  },
  {
   "cell_type": "code",
   "execution_count": 69,
   "id": "e41ba9b8-d238-441b-ae80-dd719e93e228",
   "metadata": {},
   "outputs": [
    {
     "name": "stdout",
     "output_type": "stream",
     "text": [
      "('A', '♦')\n",
      "('A', '♥')\n",
      "('A', '♣')\n",
      "('A', '♠')\n",
      "('K', '♦')\n",
      "('K', '♥')\n",
      "('K', '♣')\n",
      "('K', '♠')\n",
      "('Q', '♦')\n",
      "('Q', '♥')\n",
      "('Q', '♣')\n",
      "('Q', '♠')\n",
      "('J', '♦')\n",
      "('J', '♥')\n",
      "('J', '♣')\n",
      "('J', '♠')\n",
      "('10', '♦')\n",
      "('10', '♥')\n",
      "('10', '♣')\n",
      "('10', '♠')\n",
      "('9', '♦')\n",
      "('9', '♥')\n",
      "('9', '♣')\n",
      "('9', '♠')\n",
      "('8', '♦')\n",
      "('8', '♥')\n",
      "('8', '♣')\n",
      "('8', '♠')\n",
      "('7', '♦')\n",
      "('7', '♥')\n",
      "('7', '♣')\n",
      "('7', '♠')\n",
      "('6', '♦')\n",
      "('6', '♥')\n",
      "('6', '♣')\n",
      "('6', '♠')\n",
      "('5', '♦')\n",
      "('5', '♥')\n",
      "('5', '♣')\n",
      "('5', '♠')\n",
      "('4', '♦')\n",
      "('4', '♥')\n",
      "('4', '♣')\n",
      "('4', '♠')\n",
      "('3', '♦')\n",
      "('3', '♥')\n",
      "('3', '♣')\n",
      "('3', '♠')\n",
      "('2', '♦')\n",
      "('2', '♥')\n",
      "('2', '♣')\n",
      "('2', '♠')\n"
     ]
    }
   ],
   "source": [
    "from itertools import product\n",
    "\n",
    "Suit = [u\"\\u2666\", u\"\\u2665\", u\"\\u2663\", u\"\\u2660\"]\n",
    "Card = ['A','K','Q','J','10','9','8','7','6','5','4','3','2']\n",
    "FullDeck = list(product(Card, Suit))\n",
    "\n",
    "for i in FullDeck:\n",
    "    print(i)"
   ]
  },
  {
   "cell_type": "markdown",
   "id": "e5f96a12-0b47-4ed5-aca6-8b58b9a8d111",
   "metadata": {},
   "source": [
    "34.Write a program that calculates the mean, median, and mode of a list of numbers using list\n",
    "comprehension"
   ]
  },
  {
   "cell_type": "code",
   "execution_count": 73,
   "id": "5837e5d6-1f99-490d-ac61-30ff611f86c5",
   "metadata": {},
   "outputs": [
    {
     "name": "stdout",
     "output_type": "stream",
     "text": [
      "Mean / Average is: 3.0\n"
     ]
    }
   ],
   "source": [
    "\n",
    "n_num = [1, 2, 3, 4, 5]\n",
    "n = len(n_num)\n",
    "\n",
    "get_sum = sum(n_num)\n",
    "mean = get_sum / n\n",
    "\n",
    "print(\"Mean / Average is: \" + str(mean))\n"
   ]
  },
  {
   "cell_type": "markdown",
   "id": "d28aeb81-64b0-4240-9fe0-87f05f01184f",
   "metadata": {},
   "source": [
    "35. Create a program that generates Pascal's triangle up to a specified number of rows using list\n",
    "comprehension."
   ]
  },
  {
   "cell_type": "code",
   "execution_count": 89,
   "id": "b51ca8f3-9314-4cbb-b4b6-4bb133cb47b6",
   "metadata": {},
   "outputs": [
    {
     "name": "stdout",
     "output_type": "stream",
     "text": [
      "     \n",
      "    1 \n",
      "   1 1 \n",
      "  1 2 1 \n",
      " 1 3 3 1 \n",
      "1 4 6 4 1 \n"
     ]
    }
   ],
   "source": [
    "def solve(n):\n",
    "   for i in range(n+1):\n",
    "      for j in range(n-i):\n",
    "         print(' ', end='')\n",
    "\n",
    "      C = 1\n",
    "      for j in range(1, i+1):\n",
    "         print(C, ' ', sep='', end='')\n",
    "         C = C * (i - j) // j\n",
    "      print()\n",
    "\n",
    "n = 5\n",
    "solve(n)"
   ]
  },
  {
   "cell_type": "markdown",
   "id": "c28eea8e-45fd-433b-a87d-d9fee96418b8",
   "metadata": {},
   "source": [
    "36. Develop a program that calculates the sum of the digits of a factorial of numbers from 1 to 5 using list\n",
    "comprehension."
   ]
  },
  {
   "cell_type": "code",
   "execution_count": 93,
   "id": "e58021f6-b057-4bd6-98eb-d45fb8ed0b29",
   "metadata": {},
   "outputs": [
    {
     "name": "stdout",
     "output_type": "stream",
     "text": [
      "648\n"
     ]
    }
   ],
   "source": [
    "\n",
    "def multiply(v, x):\n",
    "\tcarry = 0\n",
    "\tsize = len(v)\n",
    "\tfor i in range(size):\n",
    "\t\t\n",
    "\t\tres = carry + v[i] * x\n",
    "\n",
    "\t\tv[i] = res % 10\n",
    "\t\tcarry = res // 10\n",
    "\n",
    "\twhile (carry != 0):\n",
    "\t\tv.append(carry % 10)\n",
    "\t\tcarry //= 10\n",
    "\n",
    "def findSumOfDigits( n):\n",
    "\tv = []\t\n",
    "\tv.append(1)\n",
    "\tfor i in range(1, n + 1):\n",
    "\t\tmultiply(v, i)\n",
    "\n",
    "\tsum = 0\n",
    "\tsize = len(v)\n",
    "\tfor i in range(size):\n",
    "\t\tsum += v[i]\n",
    "\treturn sum\n",
    "\n",
    "\n",
    "if __name__ == \"__main__\":\n",
    "\t\n",
    "\tn = 100\n",
    "\tprint(findSumOfDigits(n))\n",
    "\n"
   ]
  },
  {
   "cell_type": "code",
   "execution_count": null,
   "id": "99a80366-da50-4409-bf0a-f351d30f4bee",
   "metadata": {},
   "outputs": [],
   "source": [
    "37. Write a program that finds the longest word in a sentence using list comprehension."
   ]
  },
  {
   "cell_type": "code",
   "execution_count": 94,
   "id": "5a2fbea2-9ee4-4601-adf0-cda5526c4f84",
   "metadata": {},
   "outputs": [
    {
     "name": "stdin",
     "output_type": "stream",
     "text": [
      "Please enter a few words my name is khAN\n"
     ]
    },
    {
     "name": "stdout",
     "output_type": "stream",
     "text": [
      "my 2\n",
      "name 4\n",
      "is 2\n",
      "khAN 4\n"
     ]
    }
   ],
   "source": [
    "def find_longest_word(word_list):  \n",
    "    longest_word = ''  \n",
    "    for word in word_list:    \n",
    "          print(word, len(word))  \n",
    "\n",
    "\n",
    "words = input('Please enter a few words')  \n",
    "word_list = words.split()  \n",
    "find_longest_word(word_list)  "
   ]
  },
  {
   "cell_type": "markdown",
   "id": "da68b7b4-0ef6-4ae5-8c1c-cad26d977cde",
   "metadata": {},
   "source": [
    "38. Create a program that filters a list of strings to include only those with more than three vowels using list\n",
    "comprehension."
   ]
  },
  {
   "cell_type": "code",
   "execution_count": 96,
   "id": "9504810c-1889-4f8b-99b9-64bfbc073160",
   "metadata": {},
   "outputs": [
    {
     "name": "stdout",
     "output_type": "stream",
     "text": [
      "['city1', 'class5', 'city2']\n"
     ]
    }
   ],
   "source": [
    "\n",
    "import re\n",
    "\n",
    "def Filter(string, substr):\n",
    "\treturn [str for str in string if\n",
    "\t\t\tany(sub in str for sub in substr)]\n",
    "string = ['city1', 'class5', 'room2', 'city2']\n",
    "substr = ['class', 'city']\n",
    "print(Filter(string, substr))\n"
   ]
  },
  {
   "cell_type": "markdown",
   "id": "d07eb9a9-b142-4562-abc0-bc8838860de6",
   "metadata": {},
   "source": [
    "39. Develop a program that calculates the sum of the digits of numbers from 1 to 1000 using list\n",
    "comprehension."
   ]
  },
  {
   "cell_type": "code",
   "execution_count": 108,
   "id": "ff327554-655a-4656-bdb7-080c5700811f",
   "metadata": {},
   "outputs": [
    {
     "name": "stdout",
     "output_type": "stream",
     "text": [
      "15\n"
     ]
    }
   ],
   "source": [
    "# Python program to\n",
    "# compute sum of digits in\n",
    "# number.\n",
    "\n",
    "# Function to get sum of digits\n",
    "def getSum(n):\n",
    "\t\n",
    "\tsum = 0\n",
    "\tfor digit in str(n):\n",
    "            sum += int(digit)\t\n",
    "\treturn sum\n",
    "\n",
    "n = 12345\n",
    "print(getSum(n))\n"
   ]
  },
  {
   "cell_type": "code",
   "execution_count": 110,
   "id": "5a487639-ed46-404b-b818-95407183d1ec",
   "metadata": {},
   "outputs": [],
   "source": [
    "noprimes = set(j for i in range(2, 8) for j in range(i*2, 50, i))\n",
    "primes = [x for x in range(2, 50) if x not in noprimes]\n"
   ]
  },
  {
   "cell_type": "code",
   "execution_count": null,
   "id": "0953f683-172b-4fd2-8ab1-1ec3482ccd93",
   "metadata": {},
   "outputs": [],
   "source": []
  }
 ],
 "metadata": {
  "kernelspec": {
   "display_name": "Python 3 (ipykernel)",
   "language": "python",
   "name": "python3"
  },
  "language_info": {
   "codemirror_mode": {
    "name": "ipython",
    "version": 3
   },
   "file_extension": ".py",
   "mimetype": "text/x-python",
   "name": "python",
   "nbconvert_exporter": "python",
   "pygments_lexer": "ipython3",
   "version": "3.10.8"
  }
 },
 "nbformat": 4,
 "nbformat_minor": 5
}
